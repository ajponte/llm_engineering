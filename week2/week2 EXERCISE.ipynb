{
 "cells": [
  {
   "cell_type": "markdown",
   "id": "d006b2ea-9dfe-49c7-88a9-a5a0775185fd",
   "metadata": {},
   "source": [
    "# Additional End of week Exercise - week 2\n",
    "\n",
    "Now use everything you've learned from Week 2 to build a full prototype for the technical question/answerer you built in Week 1 Exercise.\n",
    "\n",
    "This should include a Gradio UI, streaming, use of the system prompt to add expertise, and the ability to switch between models. Bonus points if you can demonstrate use of a tool!\n",
    "\n",
    "If you feel bold, see if you can add audio input so you can talk to it, and have it respond with audio. ChatGPT or Claude can help you, or email me if you have questions.\n",
    "\n",
    "I will publish a full solution here soon - unless someone beats me to it...\n",
    "\n",
    "There are so many commercial applications for this, from a language tutor, to a company onboarding solution, to a companion AI to a course (like this one!) I can't wait to see your results."
   ]
  },
  {
   "cell_type": "code",
   "id": "a07e7793-b8f5-44f4-aded-5562f633271a",
   "metadata": {
    "ExecuteTime": {
     "end_time": "2025-06-28T23:16:03.123964Z",
     "start_time": "2025-06-28T23:16:03.119431Z"
    }
   },
   "source": [
    "import os\n",
    "from io import BytesIO\n",
    "import tempfile\n",
    "import json\n",
    "from dotenv import load_dotenv\n",
    "from openai import OpenAI\n",
    "import gradio as gr\n",
    "from pydub import AudioSegment\n",
    "from pydub.playback import play"
   ],
   "outputs": [],
   "execution_count": 7
  },
  {
   "metadata": {
    "ExecuteTime": {
     "end_time": "2025-06-28T23:16:51.572311Z",
     "start_time": "2025-06-28T23:16:49.768950Z"
    }
   },
   "cell_type": "code",
   "source": "!pip install simpleaudio",
   "id": "511a982687a14558",
   "outputs": [
    {
     "name": "stdout",
     "output_type": "stream",
     "text": [
      "Requirement already satisfied: simpleaudio in /Users/aponte/.pyenv/versions/3.12.6/lib/python3.12/site-packages (1.0.4)\r\n"
     ]
    }
   ],
   "execution_count": 13
  },
  {
   "metadata": {
    "ExecuteTime": {
     "end_time": "2025-06-28T23:16:52.721998Z",
     "start_time": "2025-06-28T23:16:52.699399Z"
    }
   },
   "cell_type": "code",
   "source": [
    "# Initialization\n",
    "\n",
    "load_dotenv(override=True)\n",
    "\n",
    "openai_api_key = os.getenv('OPENAI_API_KEY')\n",
    "if openai_api_key:\n",
    "    print(f\"OpenAI API Key exists and begins {openai_api_key[:8]}\")\n",
    "else:\n",
    "    print(\"OpenAI API Key not set\")\n",
    "\n",
    "MODEL = \"gpt-4o-mini\"\n",
    "openai = OpenAI()"
   ],
   "id": "457b433b8c174afe",
   "outputs": [
    {
     "name": "stdout",
     "output_type": "stream",
     "text": [
      "OpenAI API Key exists and begins sk-proj-\n"
     ]
    }
   ],
   "execution_count": 14
  },
  {
   "metadata": {
    "ExecuteTime": {
     "end_time": "2025-06-28T23:16:53.166278Z",
     "start_time": "2025-06-28T23:16:53.162105Z"
    }
   },
   "cell_type": "code",
   "source": [
    "system_message = \"You are a helpful assistant for a programmer Airline called ProgrammerAI. \"\n",
    "system_message += \"Give short, courteous answers, no more than 5 sentences. \"\n",
    "system_message += \"Always be accurate. If you don't know the answer, say so.\""
   ],
   "id": "141f93221bba2fba",
   "outputs": [],
   "execution_count": 15
  },
  {
   "metadata": {
    "ExecuteTime": {
     "end_time": "2025-06-28T23:16:53.922759Z",
     "start_time": "2025-06-28T23:16:53.918640Z"
    }
   },
   "cell_type": "code",
   "source": [
    "def tts(\n",
    "    message: str,\n",
    "    voice: str = \"nova\"\n",
    "):\n",
    "    \"\"\"Send a TTS request to openai.\n",
    "\n",
    "    :param message: The message.\n",
    "    :param voice: Optional voice. See `https://www.openai.fm/` for voice options.\n",
    "    \"\"\"\n",
    "    response = openai.audio.speech.create(\n",
    "        model=\"tts-1\",\n",
    "        voice=voice,\n",
    "        input=message\n",
    "    )\n",
    "    return response"
   ],
   "id": "fa3a60b8da3d1bc9",
   "outputs": [],
   "execution_count": 16
  },
  {
   "metadata": {
    "ExecuteTime": {
     "end_time": "2025-06-28T23:17:41.759512Z",
     "start_time": "2025-06-28T23:17:37.527053Z"
    }
   },
   "cell_type": "code",
   "source": [
    "def talker(message):\n",
    "    # Set a custom directory for temporary files on Windows\n",
    "    custom_temp_dir = os.path.expanduser(\"~/Documents/temp_audio\")\n",
    "    os.environ['TEMP'] = custom_temp_dir  # You can also use 'TMP' if necessary\n",
    "\n",
    "    # Create the folder if it doesn't exist\n",
    "    if not os.path.exists(custom_temp_dir):\n",
    "        os.makedirs(custom_temp_dir)\n",
    "\n",
    "    response = openai.audio.speech.create(\n",
    "        model=\"tts-1\",\n",
    "        voice=\"onyx\",  # Also, try replacing onyx with alloy\n",
    "        input=message\n",
    "    )\n",
    "\n",
    "    audio_stream = BytesIO(response.content)\n",
    "    audio = AudioSegment.from_file(audio_stream, format=\"mp3\")\n",
    "\n",
    "    play(audio)\n",
    "\n",
    "talker(\"Well hi there\")"
   ],
   "id": "1702ace1af99e2e0",
   "outputs": [
    {
     "name": "stderr",
     "output_type": "stream",
     "text": [
      "Input #0, wav, from '/var/folders/2l/c7fg4dt56j1gxp8ls1jx0lnr0000gn/T/tmpvhq2dul3.wav':\n",
      "  Duration: 00:00:00.84, bitrate: 384 kb/s\n",
      "  Stream #0:0: Audio: pcm_s16le ([1][0][0][0] / 0x0001), 24000 Hz, 1 channels, s16, 384 kb/s\n",
      "   0.66 M-A:  0.000 fd=   0 aq=    0KB vq=    0KB sq=    0B \r"
     ]
    },
    {
     "name": "stdout",
     "output_type": "stream",
     "text": [
      "\n"
     ]
    },
    {
     "name": "stderr",
     "output_type": "stream",
     "text": [
      "   0.74 M-A:  0.000 fd=   0 aq=    0KB vq=    0KB sq=    0B \r"
     ]
    }
   ],
   "execution_count": 18
  },
  {
   "metadata": {
    "ExecuteTime": {
     "end_time": "2025-06-28T23:28:41.624756Z",
     "start_time": "2025-06-28T23:28:41.616534Z"
    }
   },
   "cell_type": "code",
   "source": [
    "from openai.types.chat import ChatCompletion\n",
    "\n",
    "\n",
    "def chat(history):\n",
    "    messages = [{\"role\": \"system\", \"content\": system_message}]\n",
    "    for user, assistant in history:\n",
    "        messages.append({\"role\": \"user\", \"content\": user})\n",
    "        if assistant:\n",
    "            messages.append({\"role\": \"assistant\", \"content\": assistant})\n",
    "\n",
    "    response = openai.chat.completions.create(model=MODEL, messages=messages)\n",
    "    reply = response.choices[0].message.content\n",
    "\n",
    "    history.append((messages[-1]['content'], reply))\n",
    "    # Uncomment if you want to use TTS or any other function\n",
    "    talker(reply)\n",
    "    return history"
   ],
   "id": "63cb8b908bb6d31d",
   "outputs": [],
   "execution_count": 33
  },
  {
   "metadata": {
    "ExecuteTime": {
     "end_time": "2025-06-28T23:28:42.373057Z",
     "start_time": "2025-06-28T23:28:41.943753Z"
    }
   },
   "cell_type": "code",
   "source": [
    "def do_entry(message, history):\n",
    "    if history is None:\n",
    "        history = []\n",
    "    history.append((message, None))\n",
    "    return \"\", history\n",
    "\n",
    "with gr.Blocks() as ui:\n",
    "    with gr.Row():\n",
    "        chatbot = gr.Chatbot(height=500, label=\"AI Assistant\")\n",
    "    with gr.Row():\n",
    "        entry = gr.Textbox(label=\"Chat with our AI Assistant:\")\n",
    "    with gr.Row():\n",
    "        clear = gr.Button(\"Clear\")\n",
    "\n",
    "    entry.submit(do_entry, inputs=[entry, chatbot], outputs=[entry, chatbot])\\\n",
    "         .then(chat, inputs=chatbot, outputs=chatbot)\n",
    "\n",
    "    clear.click(lambda: [], inputs=None, outputs=chatbot, queue=False)\n",
    "\n",
    "ui.launch(inbrowser=True)"
   ],
   "id": "bb23df9d46055d63",
   "outputs": [
    {
     "name": "stderr",
     "output_type": "stream",
     "text": [
      "/var/folders/2l/c7fg4dt56j1gxp8ls1jx0lnr0000gn/T/ipykernel_85378/1613301868.py:9: UserWarning: You have not specified a value for the `type` parameter. Defaulting to the 'tuples' format for chatbot messages, but this is deprecated and will be removed in a future version of Gradio. Please set type='messages' instead, which uses openai-style dictionaries with 'role' and 'content' keys.\n",
      "  chatbot = gr.Chatbot(height=500, label=\"AI Assistant\")\n"
     ]
    },
    {
     "name": "stdout",
     "output_type": "stream",
     "text": [
      "* Running on local URL:  http://127.0.0.1:7874\n",
      "* To create a public link, set `share=True` in `launch()`.\n"
     ]
    },
    {
     "data": {
      "text/plain": [
       "<IPython.core.display.HTML object>"
      ],
      "text/html": [
       "<div><iframe src=\"http://127.0.0.1:7874/\" width=\"100%\" height=\"500\" allow=\"autoplay; camera; microphone; clipboard-read; clipboard-write;\" frameborder=\"0\" allowfullscreen></iframe></div>"
      ]
     },
     "metadata": {},
     "output_type": "display_data"
    },
    {
     "data": {
      "text/plain": []
     },
     "execution_count": 34,
     "metadata": {},
     "output_type": "execute_result"
    }
   ],
   "execution_count": 34
  },
  {
   "metadata": {},
   "cell_type": "code",
   "outputs": [],
   "execution_count": null,
   "source": "",
   "id": "658738fe93de754b"
  }
 ],
 "metadata": {
  "kernelspec": {
   "display_name": "Python 3 (ipykernel)",
   "language": "python",
   "name": "python3"
  },
  "language_info": {
   "codemirror_mode": {
    "name": "ipython",
    "version": 3
   },
   "file_extension": ".py",
   "mimetype": "text/x-python",
   "name": "python",
   "nbconvert_exporter": "python",
   "pygments_lexer": "ipython3",
   "version": "3.11.13"
  }
 },
 "nbformat": 4,
 "nbformat_minor": 5
}
