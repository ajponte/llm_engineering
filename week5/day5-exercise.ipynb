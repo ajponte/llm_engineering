{
 "cells": [
  {
   "cell_type": "markdown",
   "id": "f35b882cf66bfbd8",
   "metadata": {},
   "source": [
    "# Week 5 Exercise\n",
    "## Self-knowledge expert\n",
    "\n"
   ]
  },
  {
   "cell_type": "code",
   "execution_count": null,
   "id": "e6c3ce26ea908ea9",
   "metadata": {
    "ExecuteTime": {
     "end_time": "2025-07-15T02:54:41.091493Z",
     "start_time": "2025-07-15T02:54:41.082259Z"
    }
   },
   "outputs": [],
   "source": [
    "# imports\n",
    "\n",
    "import os\n",
    "import glob\n",
    "import requests\n",
    "from bs4 import BeautifulSoup\n",
    "from dotenv import load_dotenv\n",
    "import gradio as gr\n",
    "\n",
    "# imports for langchain, plotly and Chroma\n",
    "\n",
    "from langchain.document_loaders import DirectoryLoader, TextLoader\n",
    "from langchain.text_splitter import CharacterTextSplitter\n",
    "from langchain.schema import Document\n",
    "from langchain_openai import OpenAIEmbeddings, ChatOpenAI\n",
    "from langchain_chroma import Chroma\n",
    "import matplotlib.pyplot as plt\n",
    "from sklearn.manifold import TSNE\n",
    "import numpy as np\n",
    "import plotly.graph_objects as go\n",
    "from langchain.memory import ConversationBufferMemory\n",
    "from langchain.chains import ConversationalRetrievalChain\n",
    "from langchain.embeddings import HuggingFaceEmbeddings"
   ]
  },
  {
   "cell_type": "code",
   "execution_count": null,
   "id": "24ca713bb27f0a62",
   "metadata": {
    "ExecuteTime": {
     "end_time": "2025-07-15T02:54:42.798974Z",
     "start_time": "2025-07-15T02:54:42.795264Z"
    }
   },
   "outputs": [],
   "source": [
    "# low cost model\n",
    "\n",
    "MODEL = \"gpt-4o-mini\"\n",
    "db_name = \"vector_db\""
   ]
  },
  {
   "cell_type": "code",
   "execution_count": null,
   "id": "5705a30319c3a602",
   "metadata": {
    "ExecuteTime": {
     "end_time": "2025-07-15T02:54:42.961170Z",
     "start_time": "2025-07-15T02:54:42.954974Z"
    }
   },
   "outputs": [],
   "source": [
    "# Load environment variables in a file called .env\n",
    "\n",
    "load_dotenv(override=True)\n",
    "os.environ['OPENAI_API_KEY'] = os.getenv('OPENAI_API_KEY', 'your-key-if-not-using-env')"
   ]
  },
  {
   "cell_type": "markdown",
   "id": "8c254de1d2ac1188",
   "metadata": {},
   "source": [
    "## Website Scraping"
   ]
  },
  {
   "cell_type": "code",
   "execution_count": null,
   "id": "806cbe87bfb643c2",
   "metadata": {
    "ExecuteTime": {
     "end_time": "2025-07-15T03:03:55.766381Z",
     "start_time": "2025-07-15T03:03:55.753290Z"
    }
   },
   "outputs": [],
   "source": [
    "# A class to represent a Webpage\n",
    "\n",
    "# Some websites need you to use proper headers when fetching them:\n",
    "headers = {\n",
    " \"User-Agent\": \"Mozilla/5.0 (Windows NT 10.0; Win64; x64) AppleWebKit/537.36 (KHTML, like Gecko) Chrome/117.0.0.0 Safari/537.36\"\n",
    "}\n",
    "\n",
    "class Website:\n",
    "    \"\"\"\n",
    "    A utility class to represent a Website that we have scraped, now with links\n",
    "    \"\"\"\n",
    "\n",
    "    def __init__(self, url):\n",
    "        self.url = url\n",
    "        response = requests.get(url, headers=headers)\n",
    "        self.body = response.content\n",
    "        soup = BeautifulSoup(self.body, 'html.parser')\n",
    "        self.title = soup.title.string if soup.title else \"No title found\"\n",
    "        if soup.body:\n",
    "            for irrelevant in soup.body([\"script\", \"style\", \"img\", \"input\"]):\n",
    "                irrelevant.decompose()\n",
    "            self.text = soup.body.get_text(separator=\"\\n\", strip=True)\n",
    "        else:\n",
    "            self.text = \"\"\n",
    "        links = [link.get('href') for link in soup.find_all('a')]\n",
    "        self.links = [link for link in links if link]\n",
    "\n",
    "    def get_contents(self):\n",
    "        return f\"Webpage Title:\\n{self.title}\\nWebpage Contents:\\n{self.text}\\n\\n\"\n",
    "\n",
    "def write_output_to_file(filename: str, content: str, mode: str = 'w') -> None:\n",
    "    \"\"\"\n",
    "    Writes the given content to a specified file.\n",
    "\n",
    "    Args:\n",
    "        filename (str): The name of the file to write to.\n",
    "        content (str): The string content to write into the file.\n",
    "        mode (str): The file opening mode.\n",
    "                    'w' for write (overwrites existing file or creates new).\n",
    "                    'a' for append (adds to the end of the file or creates new).\n",
    "                    'x' for exclusive creation (fails if file already exists).\n",
    "                    (default is 'w')\n",
    "    \"\"\"\n",
    "    try:\n",
    "        with open(filename, mode) as f:\n",
    "            f.write(content)\n",
    "        print(f\"Content successfully written to '{filename}' in mode '{mode}'.\")\n",
    "    except FileExistsError:\n",
    "        print(f\"Error: File '{filename}' already exists. Use mode 'w' to overwrite or 'a' to append.\")\n",
    "    except IOError as e:\n",
    "        print(f\"An I/O error occurred while writing to '{filename}': {e}\")\n",
    "    except Exception as e:\n",
    "        print(f\"An unexpected error occurred: {e}\")"
   ]
  },
  {
   "cell_type": "code",
   "execution_count": null,
   "id": "de84332b8e0a9a5",
   "metadata": {
    "ExecuteTime": {
     "end_time": "2025-07-15T03:03:56.507517Z",
     "start_time": "2025-07-15T03:03:56.502697Z"
    }
   },
   "outputs": [],
   "source": [
    "WEBSITE_OUTPUT = \"alan-knowledge-base/website-scraping/alanjponte.com-website.md\"\n",
    "\n",
    "write_output_to_file(\n",
    "    filename=WEBSITE_OUTPUT,\n",
    "    content=alan_website.get_contents(),\n",
    ")"
   ]
  },
  {
   "cell_type": "markdown",
   "id": "308a293dd0b25bd0",
   "metadata": {},
   "source": [
    "## Read in folders\n"
   ]
  },
  {
   "cell_type": "code",
   "execution_count": null,
   "id": "73ba6943856d35a2",
   "metadata": {
    "ExecuteTime": {
     "end_time": "2025-07-15T03:03:58.273465Z",
     "start_time": "2025-07-15T03:03:58.264518Z"
    }
   },
   "outputs": [],
   "source": [
    "# Read in documents using LangChain's loaders\n",
    "# Take everything in all the sub-folders of our knowledgebase\n",
    "\n",
    "KNOWLEDGE_BASE = \"alan-knowledge-base/*\"\n",
    "\n",
    "folders = glob.glob(KNOWLEDGE_BASE)\n",
    "\n",
    "def add_metadata(doc, doc_type):\n",
    "    doc.metadata[\"doc_type\"] = doc_type\n",
    "    return doc\n",
    "\n",
    "# With thanks to CG and Jon R, students on the course, for this fix needed for some users\n",
    "text_loader_kwargs = {'encoding': 'utf-8'}\n",
    "# If that doesn't work, some Windows users might need to uncomment the next line instead\n",
    "# text_loader_kwargs={'autodetect_encoding': True}\n",
    "\n",
    "documents = []\n",
    "for folder in folders:\n",
    "    doc_type = os.path.basename(folder)\n",
    "    loader = DirectoryLoader(folder, glob=\"**/*.md\", loader_cls=TextLoader, loader_kwargs=text_loader_kwargs)\n",
    "    folder_docs = loader.load()\n",
    "    documents.extend([add_metadata(doc, doc_type) for doc in folder_docs])\n",
    "\n",
    "text_splitter = CharacterTextSplitter(chunk_size=1000, chunk_overlap=200)\n",
    "chunks = text_splitter.split_documents(documents)\n",
    "\n",
    "print(f\"Total number of chunks: {len(chunks)}\")\n",
    "print(f\"Document types found: {set(doc.metadata['doc_type'] for doc in documents)}\")"
   ]
  },
  {
   "cell_type": "markdown",
   "id": "e0616e249fa52989",
   "metadata": {},
   "source": [
    "## Vector Embeddings"
   ]
  },
  {
   "cell_type": "code",
   "execution_count": null,
   "id": "e24654935b9a6070",
   "metadata": {
    "ExecuteTime": {
     "end_time": "2025-07-15T03:04:01.503078Z",
     "start_time": "2025-07-15T03:04:00.247492Z"
    }
   },
   "outputs": [],
   "source": [
    "# Put the chunks of data into a Vector Store that associates a Vector Embedding with each chunk\n",
    "# Chroma is a popular open source Vector Database based on SQLLite\n",
    "\n",
    "embeddings = OpenAIEmbeddings()\n",
    "\n",
    "# If you would rather use the free Vector Embeddings from HuggingFace sentence-transformers\n",
    "# Then replace embeddings = OpenAIEmbeddings()\n",
    "# with:\n",
    "# from langchain.embeddings import HuggingFaceEmbeddings\n",
    "# embeddings = HuggingFaceEmbeddings(model_name=\"sentence-transformers/all-MiniLM-L6-v2\")\n",
    "\n",
    "# Delete if already exists\n",
    "\n",
    "if os.path.exists(db_name):\n",
    "    Chroma(persist_directory=db_name, embedding_function=embeddings).delete_collection()\n",
    "\n",
    "# Create vectorstore\n",
    "\n",
    "vectorstore = Chroma.from_documents(documents=chunks, embedding=embeddings, persist_directory=db_name)\n",
    "print(f\"Vectorstore created with {vectorstore._collection.count()} documents\")"
   ]
  },
  {
   "cell_type": "code",
   "execution_count": null,
   "id": "b0045bd06981f3b2",
   "metadata": {
    "ExecuteTime": {
     "end_time": "2025-07-15T03:04:09.812280Z",
     "start_time": "2025-07-15T03:04:09.802515Z"
    }
   },
   "outputs": [],
   "source": [
    "# Let's investigate the vectors\n",
    "\n",
    "collection = vectorstore._collection\n",
    "count = collection.count()\n",
    "\n",
    "sample_embedding = collection.get(limit=1, include=[\"embeddings\"])[\"embeddings\"][0]\n",
    "dimensions = len(sample_embedding)\n",
    "print(f\"There are {count:,} vectors with {dimensions:,} dimensions in the vector store\")"
   ]
  },
  {
   "cell_type": "markdown",
   "id": "9f0d43e6122acf2d",
   "metadata": {},
   "source": [
    "## Visualizing the Vector Store\n"
   ]
  },
  {
   "cell_type": "code",
   "execution_count": null,
   "id": "7bedff6426b898b",
   "metadata": {
    "ExecuteTime": {
     "end_time": "2025-07-15T03:04:29.705642Z",
     "start_time": "2025-07-15T03:04:29.696386Z"
    }
   },
   "outputs": [],
   "source": [
    "# Prework (with thanks to Jon R for identifying and fixing a bug in this!)\n",
    "\n",
    "result = collection.get(include=['embeddings', 'documents', 'metadatas'])\n",
    "vectors = np.array(result['embeddings'])\n",
    "documents = result['documents']\n",
    "metadatas = result['metadatas']\n",
    "doc_types = [metadata['doc_type'] for metadata in metadatas]\n",
    "colors = [['blue', 'green', 'red', 'orange', 'yellow'][['about', 'career-history', 'relationships', 'hobbies', 'website-scraping'].index(t)] for t in doc_types]"
   ]
  },
  {
   "cell_type": "code",
   "execution_count": null,
   "id": "b020042e62a5ecdd",
   "metadata": {
    "ExecuteTime": {
     "end_time": "2025-07-15T03:04:31.191686Z",
     "start_time": "2025-07-15T03:04:30.788992Z"
    }
   },
   "outputs": [],
   "source": [
    "from sklearn.manifold import TSNE\n",
    "import plotly.graph_objects as go\n",
    "\n",
    "# Assuming 'vectors', 'colors', 'doc_types', and 'documents' are already defined\n",
    "# For demonstration purposes, let's create some dummy data if they aren't\n",
    "import numpy as np\n",
    "if 'vectors' not in locals():\n",
    "    vectors = np.random.rand(15, 50) # 15 samples, 50 dimensions\n",
    "if 'colors' not in locals():\n",
    "    colors = np.random.randint(0, 5, 15)\n",
    "if 'doc_types' not in locals():\n",
    "    doc_types = [f\"Type_{i%3}\" for i in range(15)]\n",
    "if 'documents' not in locals():\n",
    "    documents = [f\"This is document number {i} with some content.\" for i in range(15)]\n",
    "\n",
    "\n",
    "# Reduce the dimensionality of the vectors to 2D using t-SNE\n",
    "tsne = TSNE(n_components=2, random_state=42, perplexity=min(5, len(vectors) - 1)) # Choose a perplexity less than n_samples\n",
    "# A safer choice is often `min(some_small_number, len(vectors) - 1)`\n",
    "# For 15 samples, perplexity=5 or perplexity=10 would work.\n",
    "# Let's try 5, or if 5 is too much, try len(vectors) - 1 if your n_samples is very small.\n",
    "# A robust way is to ensure it's at least 1 and less than n_samples.\n",
    "# Given your n_samples is 15, 5 is a good starting point.\n",
    "# You could even do perplexity=min(30, len(vectors) - 1) if you want to be dynamic,\n",
    "# but given your current error, len(vectors) - 1 will ensure it's always valid.\n",
    "# For n_samples=15, min(30, 14) = 14. So perplexity=14 would work too.\n",
    "\n",
    "reduced_vectors = tsne.fit_transform(vectors)\n",
    "\n",
    "# Create the 2D scatter plot\n",
    "fig = go.Figure(data=[go.Scatter(\n",
    "    x=reduced_vectors[:, 0],\n",
    "    y=reduced_vectors[:, 1],\n",
    "    mode='markers',\n",
    "    marker=dict(size=5, color=colors, opacity=0.8),\n",
    "    text=[f\"Type: {t}<br>Text: {d[:100]}...\" for t, d in zip(doc_types, documents)],\n",
    "    hoverinfo='text'\n",
    ")])\n",
    "\n",
    "fig.update_layout(\n",
    "    title='2D Chroma Vector Store Visualization',\n",
    "    scene=dict(xaxis_title='x',yaxis_title='y'),\n",
    "    width=800,\n",
    "    height=600,\n",
    "    margin=dict(r=20, b=10, l=10, t=40)\n",
    ")\n",
    "\n",
    "fig.show()"
   ]
  },
  {
   "cell_type": "code",
   "execution_count": null,
   "id": "d6b9a31ff7b1990b",
   "metadata": {
    "ExecuteTime": {
     "end_time": "2025-07-15T03:04:50.013641Z",
     "start_time": "2025-07-15T03:04:49.454191Z"
    }
   },
   "outputs": [],
   "source": [
    "from sklearn.manifold import TSNE\n",
    "import plotly.graph_objects as go\n",
    "\n",
    "# Assuming 'vectors', 'colors', 'doc_types', and 'documents' are already defined\n",
    "# For demonstration purposes, let's create some dummy data if they aren't\n",
    "import numpy as np\n",
    "if 'vectors' not in locals():\n",
    "    vectors = np.random.rand(15, 50) # 15 samples, 50 dimensions\n",
    "if 'colors' not in locals():\n",
    "    colors = np.random.randint(0, 5, 15)\n",
    "if 'doc_types' not in locals():\n",
    "    doc_types = [f\"Type_{i%3}\" for i in range(15)]\n",
    "if 'documents' not in locals():\n",
    "    documents = [f\"This is document number {i} with some content.\" for i in range(15)]\n",
    "\n",
    "\n",
    "# Reduce the dimensionality of the vectors to 2D using t-SNE\n",
    "tsne = TSNE(n_components=3, random_state=42, perplexity=min(5, len(vectors) - 1)) # Choose a perplexity less than n_samples\n",
    "# A safer choice is often `min(some_small_number, len(vectors) - 1)`\n",
    "# For 15 samples, perplexity=5 or perplexity=10 would work.\n",
    "# Let's try 5, or if 5 is too much, try len(vectors) - 1 if your n_samples is very small.\n",
    "# A robust way is to ensure it's at least 1 and less than n_samples.\n",
    "# Given your n_samples is 15, 5 is a good starting point.\n",
    "# You could even do perplexity=min(30, len(vectors) - 1) if you want to be dynamic,\n",
    "# but given your current error, len(vectors) - 1 will ensure it's always valid.\n",
    "# For n_samples=15, min(30, 14) = 14. So perplexity=14 would work too.\n",
    "\n",
    "reduced_vectors = tsne.fit_transform(vectors)\n",
    "\n",
    "# Create the 3D scatter plot\n",
    "fig = go.Figure(data=[go.Scatter3d(\n",
    "    x=reduced_vectors[:, 0],\n",
    "    y=reduced_vectors[:, 1],\n",
    "    z=reduced_vectors[:, 2],\n",
    "    mode='markers',\n",
    "    marker=dict(size=5, color=colors, opacity=0.8),\n",
    "    text=[f\"Type: {t}<br>Text: {d[:100]}...\" for t, d in zip(doc_types, documents)],\n",
    "    hoverinfo='text'\n",
    ")])\n",
    "\n",
    "fig.update_layout(\n",
    "    title='3D Chroma Vector Store Visualization',\n",
    "    scene=dict(xaxis_title='x', yaxis_title='y', zaxis_title='z'),\n",
    "    width=900,\n",
    "    height=700,\n",
    "    margin=dict(r=20, b=10, l=10, t=40)\n",
    ")\n",
    "\n",
    "fig.show()"
   ]
  },
  {
   "cell_type": "code",
   "execution_count": null,
   "id": "811da363ac1047e3",
   "metadata": {},
   "outputs": [],
   "source": []
  },
  {
   "cell_type": "markdown",
   "id": "3498651a11e8cd",
   "metadata": {},
   "source": [
    "## LangChain"
   ]
  },
  {
   "cell_type": "code",
   "execution_count": null,
   "id": "bba8b844fc3146c1",
   "metadata": {
    "ExecuteTime": {
     "end_time": "2025-07-15T03:04:59.852211Z",
     "start_time": "2025-07-15T03:04:59.839265Z"
    }
   },
   "outputs": [],
   "source": [
    "# create a new Chat with OpenAI\n",
    "llm = ChatOpenAI(temperature=0.7, model_name=MODEL)\n",
    "\n",
    "# Alternative - if you'd like to use Ollama locally, uncomment this line instead\n",
    "# llm = ChatOpenAI(temperature=0.7, model_name='llama3.2', base_url='http://localhost:11434/v1', api_key='ollama')\n",
    "\n",
    "# set up the conversation memory for the chat\n",
    "memory = ConversationBufferMemory(memory_key='chat_history', return_messages=True)\n",
    "\n",
    "# the retriever is an abstraction over the VectorStore that will be used during RAG\n",
    "retriever = vectorstore.as_retriever()\n",
    "\n",
    "# putting it together: set up the conversation chain with the GPT 3.5 LLM, the vector store and memory\n",
    "conversation_chain = ConversationalRetrievalChain.from_llm(llm=llm, retriever=retriever, memory=memory)"
   ]
  },
  {
   "cell_type": "code",
   "execution_count": null,
   "id": "60c17e8265e6f6e1",
   "metadata": {
    "ExecuteTime": {
     "end_time": "2025-07-15T03:05:04.726417Z",
     "start_time": "2025-07-15T03:05:01.917209Z"
    }
   },
   "outputs": [],
   "source": [
    "# Let's try a simple question\n",
    "\n",
    "query = \"Please explain who Alan is in a couple of sentences\"\n",
    "result = conversation_chain.invoke({\"question\": query})\n",
    "print(result[\"answer\"])"
   ]
  },
  {
   "cell_type": "code",
   "execution_count": null,
   "id": "5622fdb536724330",
   "metadata": {
    "ExecuteTime": {
     "end_time": "2025-07-15T03:05:11.454042Z",
     "start_time": "2025-07-15T03:05:11.449772Z"
    }
   },
   "outputs": [],
   "source": [
    "# set up a new conversation memory for the chat\n",
    "memory = ConversationBufferMemory(memory_key='chat_history', return_messages=True)\n",
    "\n",
    "# putting it together: set up the conversation chain with the GPT 4o-mini LLM, the vector store and memory\n",
    "conversation_chain = ConversationalRetrievalChain.from_llm(llm=llm, retriever=retriever, memory=memory)"
   ]
  },
  {
   "cell_type": "code",
   "execution_count": null,
   "id": "e02273f1ed4b6fe",
   "metadata": {
    "ExecuteTime": {
     "end_time": "2025-07-15T03:05:13.289743Z",
     "start_time": "2025-07-15T03:05:13.286192Z"
    }
   },
   "outputs": [],
   "source": [
    "# Wrapping that in a function\n",
    "\n",
    "def chat(question, history):\n",
    "    result = conversation_chain.invoke({\"question\": question})\n",
    "    return result[\"answer\"]"
   ]
  },
  {
   "cell_type": "code",
   "execution_count": null,
   "id": "7dc49797d9affe8f",
   "metadata": {
    "ExecuteTime": {
     "end_time": "2025-07-15T03:05:15.003419Z",
     "start_time": "2025-07-15T03:05:14.329321Z"
    }
   },
   "outputs": [],
   "source": [
    "# And in Gradio:\n",
    "\n",
    "view = gr.ChatInterface(chat, type=\"messages\").launch(inbrowser=True)"
   ]
  },
  {
   "cell_type": "code",
   "execution_count": null,
   "id": "5fe5661f1efe4035",
   "metadata": {
    "ExecuteTime": {
     "end_time": "2025-07-15T03:05:47.884038Z",
     "start_time": "2025-07-15T03:05:46.325324Z"
    }
   },
   "outputs": [],
   "source": [
    "# Let's investigate what gets sent behind the scenes\n",
    "\n",
    "from langchain_core.callbacks import StdOutCallbackHandler\n",
    "\n",
    "llm = ChatOpenAI(temperature=0.7, model_name=MODEL)\n",
    "\n",
    "memory = ConversationBufferMemory(memory_key='chat_history', return_messages=True)\n",
    "\n",
    "retriever = vectorstore.as_retriever()\n",
    "\n",
    "conversation_chain = ConversationalRetrievalChain.from_llm(llm=llm, retriever=retriever, memory=memory, callbacks=[StdOutCallbackHandler()])\n",
    "\n",
    "query = \"Who was Alan's dad\"\n",
    "result = conversation_chain.invoke({\"question\": query})\n",
    "answer = result[\"answer\"]\n",
    "print(\"\\nAnswer:\", answer)"
   ]
  },
  {
   "cell_type": "code",
   "execution_count": null,
   "id": "ffe4dfe179180e39",
   "metadata": {
    "ExecuteTime": {
     "end_time": "2025-07-15T03:05:53.054784Z",
     "start_time": "2025-07-15T03:05:53.047255Z"
    }
   },
   "outputs": [],
   "source": [
    "# create a new Chat with OpenAI\n",
    "llm = ChatOpenAI(temperature=0.7, model_name=MODEL)\n",
    "\n",
    "# set up the conversation memory for the chat\n",
    "memory = ConversationBufferMemory(memory_key='chat_history', return_messages=True)\n",
    "\n",
    "# the retriever is an abstraction over the VectorStore that will be used during RAG; k is how many chunks to use\n",
    "retriever = vectorstore.as_retriever(search_kwargs={\"k\": 25})\n",
    "\n",
    "# putting it together: set up the conversation chain with the GPT 3.5 LLM, the vector store and memory\n",
    "conversation_chain = ConversationalRetrievalChain.from_llm(llm=llm, retriever=retriever, memory=memory)"
   ]
  },
  {
   "cell_type": "code",
   "execution_count": null,
   "id": "e4256dde16632b6c",
   "metadata": {
    "ExecuteTime": {
     "end_time": "2025-07-15T03:05:53.929821Z",
     "start_time": "2025-07-15T03:05:53.927343Z"
    }
   },
   "outputs": [],
   "source": [
    "def chat(question, history):\n",
    "    result = conversation_chain.invoke({\"question\": question})\n",
    "    return result[\"answer\"]"
   ]
  },
  {
   "cell_type": "code",
   "execution_count": null,
   "id": "905d689a810e1f54",
   "metadata": {
    "ExecuteTime": {
     "end_time": "2025-07-15T03:05:55.300854Z",
     "start_time": "2025-07-15T03:05:54.761948Z"
    }
   },
   "outputs": [],
   "source": [
    "view = gr.ChatInterface(chat, type=\"messages\").launch(inbrowser=True)"
   ]
  },
  {
   "cell_type": "code",
   "execution_count": null,
   "id": "1d644956d2d3c022",
   "metadata": {},
   "outputs": [],
   "source": []
  }
 ],
 "metadata": {
  "kernelspec": {
   "display_name": "Python 3 (ipykernel)",
   "language": "python",
   "name": "python3"
  },
  "language_info": {
   "codemirror_mode": {
    "name": "ipython",
    "version": 3
   },
   "file_extension": ".py",
   "mimetype": "text/x-python",
   "name": "python",
   "nbconvert_exporter": "python",
   "pygments_lexer": "ipython3",
   "version": "3.11.13"
  }
 },
 "nbformat": 4,
 "nbformat_minor": 5
}
